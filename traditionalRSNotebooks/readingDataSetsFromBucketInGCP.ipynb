{
 "cells": [
  {
   "cell_type": "code",
   "execution_count": 14,
   "metadata": {},
   "outputs": [],
   "source": [
    "## import packages to read datasets from google cloud storage\n",
    "\n",
    "from google.cloud import storage\n",
    "import pandas as pd\n",
    "import gcsfs"
   ]
  },
  {
   "cell_type": "code",
   "execution_count": 15,
   "metadata": {
    "scrolled": true
   },
   "outputs": [
    {
     "name": "stdout",
     "output_type": "stream",
     "text": [
      "<Bucket: firstprojectdl>\n",
      "Great, we now have access to our first bucket on google cloud storage where we put our data\n"
     ]
    }
   ],
   "source": [
    "bucket_name = \"firstprojectdl\"\n",
    "\n",
    "storage_client = storage.Client()\n",
    "bucket = storage_client.get_bucket(bucket_name)\n",
    "\n",
    "print(bucket)\n",
    "print('Great, we now have access to our first bucket on google cloud storage where we put our data')"
   ]
  },
  {
   "cell_type": "code",
   "execution_count": 28,
   "metadata": {},
   "outputs": [
    {
     "name": "stdout",
     "output_type": "stream",
     "text": [
      "      movieId   imdbId    tmdbId\n",
      "0           1   114709     862.0\n",
      "1           2   113497    8844.0\n",
      "2           3   113228   15602.0\n",
      "3           4   114885   31357.0\n",
      "4           5   113041   11862.0\n",
      "...       ...      ...       ...\n",
      "9120   162672  3859980  402672.0\n",
      "9121   163056  4262980  315011.0\n",
      "9122   163949  2531318  391698.0\n",
      "9123   164977    27660  137608.0\n",
      "9124   164979  3447228  410803.0\n",
      "\n",
      "[9125 rows x 3 columns]\n",
      "      movieId                                              title  \\\n",
      "0           1                                   Toy Story (1995)   \n",
      "1           2                                     Jumanji (1995)   \n",
      "2           3                            Grumpier Old Men (1995)   \n",
      "3           4                           Waiting to Exhale (1995)   \n",
      "4           5                 Father of the Bride Part II (1995)   \n",
      "...       ...                                                ...   \n",
      "9120   162672                                Mohenjo Daro (2016)   \n",
      "9121   163056                               Shin Godzilla (2016)   \n",
      "9122   163949  The Beatles: Eight Days a Week - The Touring Y...   \n",
      "9123   164977                           The Gay Desperado (1936)   \n",
      "9124   164979                              Women of '69, Unboxed   \n",
      "\n",
      "                                           genres  \n",
      "0     Adventure|Animation|Children|Comedy|Fantasy  \n",
      "1                      Adventure|Children|Fantasy  \n",
      "2                                  Comedy|Romance  \n",
      "3                            Comedy|Drama|Romance  \n",
      "4                                          Comedy  \n",
      "...                                           ...  \n",
      "9120                      Adventure|Drama|Romance  \n",
      "9121              Action|Adventure|Fantasy|Sci-Fi  \n",
      "9122                                  Documentary  \n",
      "9123                                       Comedy  \n",
      "9124                                  Documentary  \n",
      "\n",
      "[9125 rows x 3 columns]\n",
      "        userId  movieId  rating   timestamp\n",
      "0            1       31     2.5  1260759144\n",
      "1            1     1029     3.0  1260759179\n",
      "2            1     1061     3.0  1260759182\n",
      "3            1     1129     2.0  1260759185\n",
      "4            1     1172     4.0  1260759205\n",
      "...        ...      ...     ...         ...\n",
      "99999      671     6268     2.5  1065579370\n",
      "100000     671     6269     4.0  1065149201\n",
      "100001     671     6365     4.0  1070940363\n",
      "100002     671     6385     2.5  1070979663\n",
      "100003     671     6565     3.5  1074784724\n",
      "\n",
      "[100004 rows x 4 columns]\n",
      "      userId  movieId                      tag   timestamp\n",
      "0         15      339  sandra 'boring' bullock  1138537770\n",
      "1         15     1955                  dentist  1193435061\n",
      "2         15     7478                 Cambodia  1170560997\n",
      "3         15    32892                  Russian  1170626366\n",
      "4         15    34162              forgettable  1141391765\n",
      "...      ...      ...                      ...         ...\n",
      "1291     660   135518          meaning of life  1436680885\n",
      "1292     660   135518            philosophical  1436680885\n",
      "1293     660   135518                   sci-fi  1436680885\n",
      "1294     663      260                   action  1438398078\n",
      "1295     663      260                     Syfy  1438398050\n",
      "\n",
      "[1296 rows x 4 columns]\n"
     ]
    }
   ],
   "source": [
    "blobs = bucket.list_blobs()\n",
    "\n",
    "for blob in blobs:\n",
    "    file_name = blob.name\n",
    "    blob.download_to_filename(file_name) # download the file to the machine\n",
    "    df = pd.read_csv(file_name) # load the data\n",
    "    print(df)"
   ]
  },
  {
   "cell_type": "code",
   "execution_count": null,
   "metadata": {},
   "outputs": [],
   "source": [
    "from google.cloud import storage\n",
    "import pandas as pd\n",
    "\n",
    "bucket_name = \"my-bucket-name\"\n",
    "\n",
    "storage_client = storage.Client()\n",
    "bucket = storage_client.get_bucket(bucket_name)\n",
    "\n",
    "# When you have your files in a subfolder of the bucket.\n",
    "my_prefix = \"csv/\" # the name of the subfolder\n",
    "blobs = bucket.list_blobs(prefix = my_prefix, delimiter = '/')\n",
    "\n",
    "for blob in blobs:\n",
    "    if(blob.name != my_prefix): # ignoring the subfolder itself \n",
    "        file_name = blob.name.replace(my_prefix, \"\")\n",
    "        blob.download_to_filename(file_name) # download the file to the machine\n",
    "        df = pd.read_csv(file_name) # load the data\n",
    "        print(df)\n",
    "\n",
    "# When you have your files on the first level of your bucket\n",
    "\n",
    "blobs = bucket.list_blobs()\n"
   ]
  }
 ],
 "metadata": {
  "kernelspec": {
   "display_name": "testEnv",
   "language": "python",
   "name": "testenv"
  },
  "language_info": {
   "codemirror_mode": {
    "name": "ipython",
    "version": 3
   },
   "file_extension": ".py",
   "mimetype": "text/x-python",
   "name": "python",
   "nbconvert_exporter": "python",
   "pygments_lexer": "ipython3",
   "version": "3.9.2"
  }
 },
 "nbformat": 4,
 "nbformat_minor": 4
}
