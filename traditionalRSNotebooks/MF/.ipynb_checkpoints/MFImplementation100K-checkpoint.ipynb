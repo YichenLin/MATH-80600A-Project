{
 "cells": [
  {
   "cell_type": "markdown",
   "metadata": {},
   "source": [
    "# Import the packages and check connection to bucket"
   ]
  },
  {
   "cell_type": "code",
   "execution_count": 1,
   "metadata": {},
   "outputs": [],
   "source": [
    "from google.cloud import storage\n",
    "import pandas as pd ## for dataset and eda\n",
    "import numpy as np ## for eda\n",
    "from datetime import datetime"
   ]
  },
  {
   "cell_type": "code",
   "execution_count": 2,
   "metadata": {},
   "outputs": [
    {
     "name": "stdout",
     "output_type": "stream",
     "text": [
      "<Bucket: firstprojectdl>\n",
      "Great, we now have access to our first bucket on google cloud storage where we put our data\n"
     ]
    }
   ],
   "source": [
    "bucket_name = \"firstprojectdl\"\n",
    "\n",
    "storage_client = storage.Client()\n",
    "bucket = storage_client.get_bucket(bucket_name)\n",
    "\n",
    "print(bucket)\n",
    "print('Great, we now have access to our first bucket on google cloud storage where we put our data')"
   ]
  },
  {
   "cell_type": "markdown",
   "metadata": {},
   "source": [
    "# Read the datasets from google cloud storage"
   ]
  },
  {
   "cell_type": "code",
   "execution_count": 3,
   "metadata": {},
   "outputs": [
    {
     "name": "stdout",
     "output_type": "stream",
     "text": [
      "u.data\n",
      "u.item\n",
      "u.user\n",
      "['rating', 'movie', 'user']\n"
     ]
    }
   ],
   "source": [
    "from google.cloud import storage\n",
    "import pandas as pd\n",
    "\n",
    "bucket_name = \"firstprojectdl\"\n",
    "\n",
    "storage_client = storage.Client()\n",
    "bucket = storage_client.get_bucket(bucket_name)\n",
    "\n",
    "# When you have your files in a subfolder of the bucket.\n",
    "my_prefix = \"data/movieLens/movieLens100k/\" # the name of the subfolder\n",
    "blobs = bucket.list_blobs(prefix = my_prefix, delimiter = '/')\n",
    "\n",
    "dfDict = {}\n",
    "dateparse = lambda x: datetime.utcfromtimestamp(int(x)).strftime('%Y-%m-%d %H:%M:%S')\n",
    "\n",
    "for blob in blobs:\n",
    "    if(blob.name != my_prefix): # ignoring the subfolder itself \n",
    "        file_name = blob.name.replace(my_prefix, \"\")\n",
    "        blob.download_to_filename(file_name) # download the file to the machine\n",
    "        print(file_name)\n",
    "        if file_name =='u.data':\n",
    "            df = pd.read_csv(file_name, sep='\\t', \n",
    "                            names=['user_id', 'movie_id', 'rating', 'timestamp'], \n",
    "                            parse_dates=['timestamp'], \n",
    "                            date_parser=dateparse) # load the rating data\n",
    "        elif file_name == 'u.item':\n",
    "            df = pd.read_csv('u.item', sep='|', encoding='latin-1',\n",
    "                    names=['movie_id', 'movie_title', 'release_date', 'video_release_date', 'imdb_url', 'unknown', 'action', \n",
    "                           'adventure', 'animation', 'childrens', 'comedy', 'crime', 'documentary', 'drama', 'fantasy', \n",
    "                           'film_noir', 'horror', 'musical', 'mystery', 'romance', 'sci_fi', 'thriller', 'war', 'western']) # load the movie data\n",
    "        elif file_name == 'u.user':\n",
    "            df = pd.read_csv('u.user', sep='|', encoding='latin-1',\n",
    "                     names=['user_id', 'age', 'gender', 'occupation', 'zip_code']) # user_df\n",
    "        dfDict[file_name] = df\n",
    "        \n",
    "\n",
    "\n",
    "\n",
    "dfDict['rating'] = dfDict['u.data'] \n",
    "del dfDict['u.data'] \n",
    "        \n",
    "dfDict['movie'] = dfDict['u.item'] \n",
    "del dfDict['u.item'] \n",
    "\n",
    "dfDict['user'] = dfDict['u.user'] \n",
    "del dfDict['u.user'] \n",
    "\n",
    "## This is the list of datasets we have for the movieLens 100k!!\n",
    "print(list(dfDict))"
   ]
  },
  {
   "cell_type": "code",
   "execution_count": 4,
   "metadata": {},
   "outputs": [
    {
     "data": {
      "text/html": [
       "<div>\n",
       "<style scoped>\n",
       "    .dataframe tbody tr th:only-of-type {\n",
       "        vertical-align: middle;\n",
       "    }\n",
       "\n",
       "    .dataframe tbody tr th {\n",
       "        vertical-align: top;\n",
       "    }\n",
       "\n",
       "    .dataframe thead th {\n",
       "        text-align: right;\n",
       "    }\n",
       "</style>\n",
       "<table border=\"1\" class=\"dataframe\">\n",
       "  <thead>\n",
       "    <tr style=\"text-align: right;\">\n",
       "      <th></th>\n",
       "      <th>user_id</th>\n",
       "      <th>movie_id</th>\n",
       "      <th>rating</th>\n",
       "      <th>timestamp</th>\n",
       "    </tr>\n",
       "  </thead>\n",
       "  <tbody>\n",
       "    <tr>\n",
       "      <th>0</th>\n",
       "      <td>196</td>\n",
       "      <td>242</td>\n",
       "      <td>3</td>\n",
       "      <td>1997-12-04 15:55:49</td>\n",
       "    </tr>\n",
       "    <tr>\n",
       "      <th>1</th>\n",
       "      <td>186</td>\n",
       "      <td>302</td>\n",
       "      <td>3</td>\n",
       "      <td>1998-04-04 19:22:22</td>\n",
       "    </tr>\n",
       "    <tr>\n",
       "      <th>2</th>\n",
       "      <td>22</td>\n",
       "      <td>377</td>\n",
       "      <td>1</td>\n",
       "      <td>1997-11-07 07:18:36</td>\n",
       "    </tr>\n",
       "    <tr>\n",
       "      <th>3</th>\n",
       "      <td>244</td>\n",
       "      <td>51</td>\n",
       "      <td>2</td>\n",
       "      <td>1997-11-27 05:02:03</td>\n",
       "    </tr>\n",
       "    <tr>\n",
       "      <th>4</th>\n",
       "      <td>166</td>\n",
       "      <td>346</td>\n",
       "      <td>1</td>\n",
       "      <td>1998-02-02 05:33:16</td>\n",
       "    </tr>\n",
       "  </tbody>\n",
       "</table>\n",
       "</div>"
      ],
      "text/plain": [
       "   user_id  movie_id  rating           timestamp\n",
       "0      196       242       3 1997-12-04 15:55:49\n",
       "1      186       302       3 1998-04-04 19:22:22\n",
       "2       22       377       1 1997-11-07 07:18:36\n",
       "3      244        51       2 1997-11-27 05:02:03\n",
       "4      166       346       1 1998-02-02 05:33:16"
      ]
     },
     "execution_count": 4,
     "metadata": {},
     "output_type": "execute_result"
    }
   ],
   "source": [
    "df = dfDict['rating'] ## our rating dataset\n",
    "df.head()"
   ]
  },
  {
   "cell_type": "code",
   "execution_count": 5,
   "metadata": {},
   "outputs": [
    {
     "name": "stdout",
     "output_type": "stream",
     "text": [
      "Number of users: 943\n",
      "Number of items/movies rated: 1682\n"
     ]
    }
   ],
   "source": [
    "n_users = df.user_id.unique().shape[0]\n",
    "print(f'Number of users: {n_users}')\n",
    "n_items = df.movie_id.unique().shape[0]\n",
    "print(f'Number of items/movies rated: {n_items}')\n"
   ]
  },
  {
   "cell_type": "code",
   "execution_count": 6,
   "metadata": {},
   "outputs": [
    {
     "name": "stdout",
     "output_type": "stream",
     "text": [
      "[[0. 0. 0. ... 0. 0. 0.]\n",
      " [0. 0. 0. ... 0. 0. 0.]\n",
      " [0. 0. 0. ... 0. 0. 0.]\n",
      " ...\n",
      " [0. 0. 0. ... 0. 0. 0.]\n",
      " [0. 0. 0. ... 0. 0. 0.]\n",
      " [0. 0. 0. ... 0. 0. 0.]]\n",
      "Matrix shape is (943, 1682)\n",
      "Maximum number of ratings is 1586126. With this number of ratings, the matrix would be dense\n"
     ]
    }
   ],
   "source": [
    "## then create the rating matrix with dimension (number of users, number of items)\n",
    "\n",
    "ratings = np.zeros((n_users, n_items))\n",
    "print(ratings)\n",
    "print(f'Matrix shape is {ratings.shape}')\n",
    "maxRatingsPossible = n_users * n_items\n",
    "print(f'Maximum number of ratings is {maxRatingsPossible}. With this number of ratings, the matrix would be dense')"
   ]
  },
  {
   "cell_type": "markdown",
   "metadata": {},
   "source": [
    "Fill the matrix with the ratings submitted by each of the users!!"
   ]
  },
  {
   "cell_type": "code",
   "execution_count": 7,
   "metadata": {},
   "outputs": [
    {
     "data": {
      "text/plain": [
       "array([[5., 3., 4., ..., 0., 0., 0.],\n",
       "       [4., 0., 0., ..., 0., 0., 0.],\n",
       "       [0., 0., 0., ..., 0., 0., 0.],\n",
       "       ...,\n",
       "       [5., 0., 0., ..., 0., 0., 0.],\n",
       "       [0., 0., 0., ..., 0., 0., 0.],\n",
       "       [0., 5., 0., ..., 0., 0., 0.]])"
      ]
     },
     "execution_count": 7,
     "metadata": {},
     "output_type": "execute_result"
    }
   ],
   "source": [
    "## what we do here here is as follows:\n",
    "# 1. we iterate over the dataframe rows\n",
    "# 2. we then go to the right user id row\n",
    "# and rating column and then assign it the right rating\n",
    "for row in df.itertuples():\n",
    "    ratings[row[1]-1, row[2]-1] = row[3] \n",
    "ratings"
   ]
  },
  {
   "cell_type": "markdown",
   "metadata": {},
   "source": [
    "Calculate the matrix sparsity"
   ]
  },
  {
   "cell_type": "code",
   "execution_count": 8,
   "metadata": {},
   "outputs": [
    {
     "name": "stdout",
     "output_type": "stream",
     "text": [
      "Matrix Sparsity : 6.305 %\n"
     ]
    }
   ],
   "source": [
    "numerator = float(len(ratings.nonzero()[0])) # of course, we have 100,000 ratings\n",
    "denominator =(ratings.shape[0] * ratings.shape[1]) # then 100000/1586126 \n",
    "\n",
    "sparsity = numerator/denominator\n",
    "\n",
    "sparsity *= 100 # get the percentage\n",
    "\n",
    "print(f'Matrix Sparsity : {round(sparsity, 3)} %')"
   ]
  },
  {
   "cell_type": "markdown",
   "metadata": {},
   "source": [
    "# Split the datasets in train, validation, test"
   ]
  },
  {
   "cell_type": "code",
   "execution_count": 9,
   "metadata": {},
   "outputs": [],
   "source": [
    "def train_val_test_split(ratings):\n",
    "    \"\"\"\n",
    "    The purpose of this method is split our datasets betwen:\n",
    "    1. Train\n",
    "    2. Validation (we extracted 7 ratings for a user from train and put it in there)\n",
    "    3. Test (we extracted 7 ratings for a user from train and put it in there)\n",
    "    We go through each of the user and randonly select ratings from train set that will go\n",
    "    from the initial matrix, take 7 to put in the validation matrix \n",
    "    and take 7 to put in the test matrix. Finally these ratings that have been put in \n",
    "    the test and val sets are set to 0 in the main/train matrix\n",
    "    \"\"\"\n",
    "    test = np.zeros(ratings.shape)\n",
    "    validation = np.zeros(ratings.shape)\n",
    "    train = ratings.copy()\n",
    "    for user in range(ratings.shape[0]):\n",
    "        test_ratings = np.random.choice(ratings[user, :].nonzero()[0], \n",
    "                                       size=7, \n",
    "                                        replace=False) # for user, get the test rating array\n",
    "        val_ratings = np.random.choice(ratings[user, :].nonzero()[0], \n",
    "                                       size=7, \n",
    "                                        replace=False) # for user, get the validation array\n",
    "        train[user, test_ratings] = 0. # set to 0 the train matrix/copy of the original matrix the ratings taken for test\n",
    "        train[user, val_ratings] = 0.# set to 0 the train matrix/copy of the original matrix the ratings taken for validation\n",
    "        test[user, test_ratings] = ratings[user, test_ratings] # assign to the test matrix/matrix of 0 the test ratings\n",
    "        validation[user, val_ratings] = ratings[user, val_ratings] # assign to the val matrix/matrix of 0 the val ratings\n",
    "        \n",
    "    assert(np.all((train * test * validation) == 0))\n",
    "\n",
    "    return train, validation, test"
   ]
  },
  {
   "cell_type": "code",
   "execution_count": 10,
   "metadata": {},
   "outputs": [
    {
     "name": "stdout",
     "output_type": "stream",
     "text": [
      "This is the train rating matrix\n",
      "[[5. 3. 4. ... 0. 0. 0.]\n",
      " [4. 0. 0. ... 0. 0. 0.]\n",
      " [0. 0. 0. ... 0. 0. 0.]\n",
      " ...\n",
      " [0. 0. 0. ... 0. 0. 0.]\n",
      " [0. 0. 0. ... 0. 0. 0.]\n",
      " [0. 5. 0. ... 0. 0. 0.]]\n",
      "The shape is (943, 1682)\n",
      "This is the validation rating matrix\n",
      "[[0. 0. 0. ... 0. 0. 0.]\n",
      " [0. 0. 0. ... 0. 0. 0.]\n",
      " [0. 0. 0. ... 0. 0. 0.]\n",
      " ...\n",
      " [5. 0. 0. ... 0. 0. 0.]\n",
      " [0. 0. 0. ... 0. 0. 0.]\n",
      " [0. 0. 0. ... 0. 0. 0.]]\n",
      "The shape is (943, 1682)\n",
      "This is the test rating matrix\n",
      "[[0. 0. 0. ... 0. 0. 0.]\n",
      " [0. 0. 0. ... 0. 0. 0.]\n",
      " [0. 0. 0. ... 0. 0. 0.]\n",
      " ...\n",
      " [0. 0. 0. ... 0. 0. 0.]\n",
      " [0. 0. 0. ... 0. 0. 0.]\n",
      " [0. 0. 0. ... 0. 0. 0.]]\n",
      "The shape is (943, 1682)\n"
     ]
    }
   ],
   "source": [
    "train, validation, test = train_val_test_split(ratings)\n",
    "\n",
    "print(\"This is the train rating matrix\")\n",
    "print(train) \n",
    "print(f\"The shape is {train.shape}\")\n",
    "print(\"This is the validation rating matrix\")\n",
    "print(validation)\n",
    "print(f\"The shape is {validation.shape}\")\n",
    "print(\"This is the test rating matrix\")\n",
    "print(test)\n",
    "print(f\"The shape is {test.shape}\")"
   ]
  },
  {
   "cell_type": "markdown",
   "metadata": {},
   "source": [
    "## MF Implementation with Alternating Least Squares (ALS) "
   ]
  },
  {
   "cell_type": "markdown",
   "metadata": {},
   "source": [
    "With a training, validation and test set, we can now move towards a Traditional MF based recommendation system."
   ]
  },
  {
   "cell_type": "markdown",
   "metadata": {},
   "source": [
    "What are the assumptions of Matrix Factorization?"
   ]
  },
  {
   "cell_type": "markdown",
   "metadata": {},
   "source": [
    "- It assumes that each user can be described by k attributes. For instance, feature number 1 might correspond to how much a user likes sci movies.."
   ]
  },
  {
   "cell_type": "markdown",
   "metadata": {},
   "source": [
    "- It also assumes that movies can be described by k features as well! but for movies!\n",
    "In this case, feature number might correspond to how much a movie is close to the characteristics of a sci movie"
   ]
  },
  {
   "cell_type": "markdown",
   "metadata": {},
   "source": [
    "- Finally, it multiplies each feature of the user by the features of the mobies and dot product --> voila --> This would FINALLY BE A GOOD APPROXIMATION FOR THE RATING THE USER WOULD GIVE THAT MOVIE!"
   ]
  },
  {
   "cell_type": "markdown",
   "metadata": {},
   "source": [
    "You may ask how we know these features and whether they are relevant? We learn them by tweaking the number of k parameters and learn the relevant values for the user and item. These features are learnt by minimizing a loss function"
   ]
  },
  {
   "cell_type": "markdown",
   "metadata": {},
   "source": [
    "- What is the math behind?"
   ]
  },
  {
   "cell_type": "markdown",
   "metadata": {},
   "source": [
    "Quite straightforward!\n",
    "\n",
    "It is the dot product of the following k dimensional vectors:\n",
    "1. Vector for the user u with vector x_u of k dimensional vector\n",
    "2. Vector for the item (movie) i with vecotr yi\n",
    "\n",
    "\n",
    "rating(ui - predicted) = (Xu.Transpose * Yi)\n"
   ]
  },
  {
   "cell_type": "markdown",
   "metadata": {},
   "source": [
    "The user and item vectors are the low dimensional embeddings. And the k embeddings are the latent factors.\n",
    "The Loss function we will minimize is a MSE with 2 regularization terms on the user and items vectors to prevent overfitting.\n",
    "\n",
    "We ll minimize it with derivative based methods such as ALS and then SGD"
   ]
  },
  {
   "cell_type": "code",
   "execution_count": 11,
   "metadata": {},
   "outputs": [],
   "source": [
    "from numpy.linalg import solve"
   ]
  },
  {
   "cell_type": "markdown",
   "metadata": {},
   "source": [
    "Let us implement the Matrix Factorization code that executes the Matrix Factorization with the Alternating Square Methods\n",
    "\n",
    "How does the ALS (Alternating Least Squares) work for training the model?\n",
    "\n",
    "For each round of ALS, whether on user or item, we hold the other latent vector constant. \n",
    "\n",
    "Example:\n",
    "0. Remember that the goal is to generate latent vectors m by k so first we randonly generate numpy arrays of m by k with values inside for both the user and the movie vector\n",
    "1. To continue in our derivation we need to keep one of the latent vectors constant. For this first round, we keep the item (movie) vector constant.\n",
    "2. Then we take the derivative of the loss function with respect to the other set of vectors, that is in this case the user vectors.\n",
    "3. We then solve for the derivative equal to 0\n",
    "4. We solve for the non constant vectors (user vectors)\n",
    "5. Once the solved vectors (for users) are obtained, JUST DO THE ALTERNATING DANCE!\n",
    "6. Hold the user latent vector constant this time and now make the item latent vector the non constant --> Take the derivative of the loss function with respect to the previously constant vectors (the item vectors).\n",
    "7. We do this alternating dance and do 1 through 6 until convergence\n",
    "\n",
    "\n"
   ]
  },
  {
   "cell_type": "code",
   "execution_count": 12,
   "metadata": {},
   "outputs": [],
   "source": [
    "class MFals():\n",
    "    def __init__(self, \n",
    "                 ratings, \n",
    "                 n_factors=40, \n",
    "                 item_reg=0.0, \n",
    "                 user_reg=0.0,\n",
    "                 verbose=False\n",
    "                ):\n",
    "        \"\"\"\n",
    "        Train a matrix factorization model to predict empty \n",
    "        entries in a matrix. The terminology assumes a \n",
    "        ratings matrix which is ~ user x item\n",
    "        \n",
    "        Params\n",
    "        ======\n",
    "        ratings : (ndarray)\n",
    "            User x Item matrix with corresponding ratings\n",
    "        \n",
    "        n_factors : (int)\n",
    "            Number of latent factors to use in matrix \n",
    "            factorization model\n",
    "        \n",
    "        item_reg : (float)\n",
    "            Regularization term for item latent factors\n",
    "        \n",
    "        user_reg : (float)\n",
    "            Regularization term for user latent factors\n",
    "        \n",
    "        verbose : (bool)\n",
    "            Whether or not to printout training progress\n",
    "        \"\"\"\n",
    "        \n",
    "        self.ratings = ratings\n",
    "        self.n_users, self.n_items = ratings.shape\n",
    "        self.n_factors = n_factors ## our k number of attributes!!\n",
    "        self.item_reg = item_reg\n",
    "        self.user_reg = user_reg\n",
    "        self._v = verbose\n",
    "\n",
    "    def als_step(self,\n",
    "                 latent_vectors,\n",
    "                 fixed_vecs,\n",
    "                 ratings,\n",
    "                 _lambda,\n",
    "                 type='user'):\n",
    "        \"\"\"\n",
    "        One of the two ALS steps. Solve for the latent vectors\n",
    "        specified by type.\n",
    "        \"\"\"\n",
    "        if type == 'user':\n",
    "            # Precompute\n",
    "            YTY = fixed_vecs.T.dot(fixed_vecs) # the Y times Y transpose part of the derived function equal to 0\n",
    "            lambdaI = np.eye(YTY.shape[0]) * _lambda # the second argument to get the user latent vectors\n",
    "\n",
    "            for u in range(latent_vectors.shape[0]):\n",
    "                latent_vectors[u, :] = solve((YTY + lambdaI), \n",
    "                                             ratings[u, :].dot(fixed_vecs)) ## here what we do is search for the latent vectors for each of the user u\n",
    "        elif type == 'item':\n",
    "            # Precompute\n",
    "            XTX = fixed_vecs.T.dot(fixed_vecs) # same calculation as above but with user vector\n",
    "            lambdaI = np.eye(XTX.shape[0]) * _lambda\n",
    "            \n",
    "            for i in range(latent_vectors.shape[0]):\n",
    "                latent_vectors[i, :] = solve((XTX + lambdaI), \n",
    "                                             ratings[:, i].T.dot(fixed_vecs)) ## here what we do is search for the latent vectors for each of the movie i in the column!\n",
    "        return latent_vectors\n",
    "\n",
    "    def train(self, n_iter=10):\n",
    "        \"\"\" Train model for n_iter iterations from scratch.\"\"\"\n",
    "        # initialize latent vectors\n",
    "        self.user_vecs = np.random.random((self.n_users, self.n_factors)) # random start for our user vecs and item vecs before we improve them with the ALS\n",
    "        self.item_vecs = np.random.random((self.n_items, self.n_factors))\n",
    "        \n",
    "        self.partial_train(n_iter)\n",
    "    \n",
    "    def partial_train(self, n_iter):\n",
    "        \"\"\" \n",
    "        Train model for n_iter iterations. Can be \n",
    "        called multiple times for further training.\n",
    "        Get the user_vecs and item_vecs latent vectors\n",
    "        \"\"\"\n",
    "        ctr = 1\n",
    "        while ctr <= n_iter:\n",
    "            if ctr % 10 == 0 and self._v:\n",
    "                print(f'current iteration: {ctr}')\n",
    "            self.user_vecs = self.als_step(self.user_vecs, \n",
    "                                           self.item_vecs, \n",
    "                                           self.ratings, \n",
    "                                           self.user_reg, \n",
    "                                           type='user') # our user latent vector\n",
    "            self.item_vecs = self.als_step(self.item_vecs, \n",
    "                                           self.user_vecs, \n",
    "                                           self.ratings, \n",
    "                                           self.item_reg, \n",
    "                                           type='item') # our item latent vactor\n",
    "            ctr += 1\n",
    "    \n",
    "    def predict_all(self):\n",
    "        \"\"\" Predict ratings for every user and item. \"\"\"\n",
    "        predictions = np.zeros((self.user_vecs.shape[0], \n",
    "                                self.item_vecs.shape[0]))\n",
    "        for u in range(self.user_vecs.shape[0]):\n",
    "            for i in range(self.item_vecs.shape[0]):\n",
    "                predictions[u, i] = self.predict(u, i)\n",
    "                \n",
    "        return predictions\n",
    "    def predict(self, u, i):\n",
    "        \"\"\" Single user and item prediction. \"\"\"\n",
    "        return self.user_vecs[u, :].dot(self.item_vecs[i, :].T)\n",
    "    \n",
    "    def calculate_learning_curve(self, iter_array, val, training=True):\n",
    "        \"\"\"\n",
    "        Keep track of RMSE as a function of training iterations.\n",
    "        \n",
    "        Params\n",
    "        ======\n",
    "        iter_array : (list)\n",
    "            List of numbers of iterations to train for each step of \n",
    "            the learning curve. e.g. [1, 5, 10, 20]\n",
    "        val : (2D ndarray)\n",
    "            Validation dataset (assumed to be user x item).\n",
    "        \n",
    "        The function creates two new class attributes:\n",
    "        \n",
    "        train_rmse : (list)\n",
    "            Training data RMSE values for each value of iter_array\n",
    "        val_rmse : (list)\n",
    "            val data RMSE values for each value of iter_array\n",
    "        \"\"\"\n",
    "        \n",
    "        if training:\n",
    "            iter_array.sort()\n",
    "            self.train_rmse =[]\n",
    "            self.val_rmse = []\n",
    "            iter_diff = 0\n",
    "            for (i, n_iter) in enumerate(iter_array):\n",
    "                if self._v:\n",
    "                    print('Iteration: {n_iter}')\n",
    "                if i == 0:\n",
    "                    self.train(n_iter - iter_diff)\n",
    "                else:\n",
    "                    self.partial_train(n_iter - iter_diff)\n",
    "\n",
    "                predictions = self.predict_all()\n",
    "\n",
    "                self.train_rmse += [get_rmse(predictions, self.ratings)]\n",
    "                self.val_rmse += [get_rmse(predictions, val)]\n",
    "                if self._v:\n",
    "                    print('Train rmse: ' + str(self.train_rmse[-1]))\n",
    "                    print('Validation rmse: ' + str(self.val_rmse[-1]))\n",
    "                iter_diff = n_iter\n",
    "                \n",
    "        if training == False:\n",
    "            iter_array.sort()\n",
    "            self.test_rmse = []\n",
    "            iter_diff = 0\n",
    "            for (i, n_iter) in enumerate(iter_array):\n",
    "            \n",
    "                predictions = self.predict_all()\n",
    "\n",
    "                self.test_rmse += [get_rmse(predictions, val)]\n",
    "\n",
    "                iter_diff = n_iter\n",
    "            "
   ]
  },
  {
   "cell_type": "markdown",
   "metadata": {},
   "source": [
    "The function to get the RMSE"
   ]
  },
  {
   "cell_type": "code",
   "execution_count": 13,
   "metadata": {},
   "outputs": [],
   "source": [
    "from sklearn.metrics import mean_squared_error\n",
    "\n",
    "def get_rmse(pred, actual):\n",
    "    \"\"\" The goal of this function is to get the RMSE \n",
    "    to assess the performance of the learner\n",
    "    \"\"\"\n",
    "    pred = pred[actual.nonzero()].flatten()\n",
    "    actual = actual[actual.nonzero()].flatten()\n",
    "    return mean_squared_error(pred, actual, squared=False)"
   ]
  },
  {
   "cell_type": "markdown",
   "metadata": {},
   "source": [
    "Let us assess training versus validation"
   ]
  },
  {
   "cell_type": "code",
   "execution_count": 14,
   "metadata": {},
   "outputs": [
    {
     "name": "stdout",
     "output_type": "stream",
     "text": [
      "CPU times: user 36.4 s, sys: 49.2 ms, total: 36.4 s\n",
      "Wall time: 25.2 s\n"
     ]
    }
   ],
   "source": [
    "%%time\n",
    "MF_als = MFals(train, n_factors=40, user_reg=0.0, item_reg=0.0)\n",
    "iter_array = [1, 2, 5, 10, 25, 50, 100]\n",
    "MF_als.calculate_learning_curve(iter_array, validation)"
   ]
  },
  {
   "cell_type": "code",
   "execution_count": 15,
   "metadata": {},
   "outputs": [],
   "source": [
    "%matplotlib inline\n",
    "import matplotlib.pyplot as plt\n",
    "import seaborn as sns\n",
    "sns.set()\n",
    "\n",
    "def plot_learning_curve(iter_array, model):\n",
    "    plt.plot(iter_array, model.train_rmse, \\\n",
    "             label='Training', linewidth=5)\n",
    "    plt.plot(iter_array, model.val_rmse, \\\n",
    "             label='Validation', linewidth=5)\n",
    "\n",
    "\n",
    "    plt.xticks(fontsize=16);\n",
    "    plt.yticks(fontsize=16);\n",
    "    plt.xlabel('iterations', fontsize=30);\n",
    "    plt.ylabel('RMSE', fontsize=30);\n",
    "    plt.legend(loc='best', fontsize=20);"
   ]
  },
  {
   "cell_type": "code",
   "execution_count": 16,
   "metadata": {
    "scrolled": true
   },
   "outputs": [
    {
     "data": {
      "image/png": "[encoded data removed]",
      "text/plain": [
       "<Figure size 432x288 with 1 Axes>"
      ]
     },
     "metadata": {},
     "output_type": "display_data"
    }
   ],
   "source": [
    "plot_learning_curve(iter_array, MF_als)"
   ]
  },
  {
   "cell_type": "markdown",
   "metadata": {},
   "source": [
    "Let us assess validation versus testing"
   ]
  },
  {
   "cell_type": "code",
   "execution_count": 17,
   "metadata": {},
   "outputs": [
    {
     "name": "stdout",
     "output_type": "stream",
     "text": [
      "CPU times: user 15.4 s, sys: 4.12 ms, total: 15.4 s\n",
      "Wall time: 15.4 s\n"
     ]
    }
   ],
   "source": [
    "%%time\n",
    "MF_als.calculate_learning_curve(iter_array, test, training=False)"
   ]
  },
  {
   "cell_type": "code",
   "execution_count": 40,
   "metadata": {},
   "outputs": [],
   "source": [
    "def plot_learning_curveTest(iter_array, model):\n",
    "    plt.plot(iter_array, model.val_rmse, \\\n",
    "             label='Validation', linewidth=5)\n",
    "    plt.plot(iter_array, model.test_rmse, \\\n",
    "             label='Test', linewidth=5)\n",
    "\n",
    "\n",
    "    plt.xticks(fontsize=16);\n",
    "    plt.yticks(fontsize=16);\n",
    "    plt.xlabel('iterations', fontsize=30);\n",
    "    plt.ylabel('RMSE', fontsize=30);\n",
    "    plt.legend(loc='best', fontsize=20);"
   ]
  },
  {
   "cell_type": "code",
   "execution_count": 41,
   "metadata": {},
   "outputs": [
    {
     "data": {
      "image/png": "[encoded data removed]",
      "text/plain": [
       "<Figure size 432x288 with 1 Axes>"
      ]
     },
     "metadata": {},
     "output_type": "display_data"
    }
   ],
   "source": [
    "plot_learning_curveTest(iter_array, MF_als)"
   ]
  },
  {
   "cell_type": "markdown",
   "metadata": {},
   "source": [
    "Optimizing the ALS model parameters"
   ]
  },
  {
   "cell_type": "markdown",
   "metadata": {},
   "source": [
    "While comparing the validation and training sets, we can say that the amount of overfitting is reasonable\n",
    "\n",
    "And the performance bottoms out at around 5 to 10 iterations too"
   ]
  },
  {
   "cell_type": "markdown",
   "metadata": {},
   "source": [
    "Let us increase the regularization term in the MF"
   ]
  },
  {
   "cell_type": "code",
   "execution_count": 42,
   "metadata": {},
   "outputs": [
    {
     "name": "stdout",
     "output_type": "stream",
     "text": [
      "CPU times: user 36.3 s, sys: 51.8 ms, total: 36.4 s\n",
      "Wall time: 25.4 s\n"
     ]
    }
   ],
   "source": [
    "%%time\n",
    "MF_alsOpt = MFals(train, n_factors=40, \\\n",
    "                    user_reg=30., item_reg=30.)\n",
    "\n",
    "iter_array = [1, 2, 5, 10, 25, 50, 100]\n",
    "MF_alsOpt.calculate_learning_curve(iter_array, validation)"
   ]
  },
  {
   "cell_type": "code",
   "execution_count": 43,
   "metadata": {
    "scrolled": true
   },
   "outputs": [
    {
     "data": {
      "image/png": "[encoded data removed]",
      "text/plain": [
       "<Figure size 432x288 with 1 Axes>"
      ]
     },
     "metadata": {},
     "output_type": "display_data"
    }
   ],
   "source": [
    "plot_learning_curve(iter_array, MF_alsOpt)"
   ]
  },
  {
   "cell_type": "markdown",
   "metadata": {},
   "source": [
    "Increasing the RMSE did not change the performance much"
   ]
  },
  {
   "cell_type": "markdown",
   "metadata": {},
   "source": [
    "Using a greater RMSE did not help improve performance on validation set and then decrease the gap between the training and validation"
   ]
  },
  {
   "cell_type": "markdown",
   "metadata": {},
   "source": [
    "We will optimize performance by fine tuning the regularization term and the number k of latent factors. \n",
    "\n",
    "The item and user regularization terms will be restricted to be equal to each other."
   ]
  },
  {
   "cell_type": "markdown",
   "metadata": {},
   "source": [
    "# Fine Tune the MF Hyperparameters (ALS) to minimize loss function"
   ]
  },
  {
   "cell_type": "code",
   "execution_count": 44,
   "metadata": {},
   "outputs": [],
   "source": [
    "from tqdm import tqdm"
   ]
  },
  {
   "cell_type": "code",
   "execution_count": 45,
   "metadata": {
    "scrolled": true
   },
   "outputs": [
    {
     "name": "stderr",
     "output_type": "stream",
     "text": [
      "\r",
      "  0%|          | 0/5 [00:00<?, ?it/s]"
     ]
    },
    {
     "name": "stdout",
     "output_type": "stream",
     "text": [
      "Factors: 5\n",
      "Regularization: 0.1\n",
      "New optimal hyperparameters\n",
      "n_factors                                             5\n",
      "reg                                                 0.1\n",
      "n_iter                                                5\n",
      "train_mse                                           inf\n",
      "test_mse                                            inf\n",
      "model         <__main__.MFals object at 0x7f529ae433d0>\n",
      "train_rmse                                     2.488258\n",
      "val_rmse                                       2.993085\n",
      "dtype: object\n",
      "Regularization: 1.0\n",
      "New optimal hyperparameters\n",
      "n_factors                                             5\n",
      "reg                                                 1.0\n",
      "n_iter                                               25\n",
      "train_mse                                           inf\n",
      "test_mse                                            inf\n",
      "model         <__main__.MFals object at 0x7f529aff1350>\n",
      "train_rmse                                     2.495253\n",
      "val_rmse                                       3.004963\n",
      "dtype: object\n",
      "Regularization: 10.0\n",
      "New optimal hyperparameters\n",
      "n_factors                                             5\n",
      "reg                                                10.0\n",
      "n_iter                                               25\n",
      "train_mse                                           inf\n",
      "test_mse                                            inf\n",
      "model         <__main__.MFals object at 0x7f529aff1110>\n",
      "train_rmse                                     2.512906\n",
      "val_rmse                                       3.022595\n",
      "dtype: object\n",
      "Regularization: 100.0\n"
     ]
    },
    {
     "name": "stderr",
     "output_type": "stream",
     "text": [
      "\r",
      " 20%|██        | 1/5 [01:29<05:56, 89.24s/it]"
     ]
    },
    {
     "name": "stdout",
     "output_type": "stream",
     "text": [
      "New optimal hyperparameters\n",
      "n_factors                                             5\n",
      "reg                                               100.0\n",
      "n_iter                                               10\n",
      "train_mse                                           inf\n",
      "test_mse                                            inf\n",
      "model         <__main__.MFals object at 0x7f529aff10d0>\n",
      "train_rmse                                     2.760154\n",
      "val_rmse                                       3.212161\n",
      "dtype: object\n",
      "Factors: 10\n",
      "Regularization: 0.1\n",
      "New optimal hyperparameters\n",
      "n_factors                                            10\n",
      "reg                                                 0.1\n",
      "n_iter                                              100\n",
      "train_mse                                           inf\n",
      "test_mse                                            inf\n",
      "model         <__main__.MFals object at 0x7f529aff1250>\n",
      "train_rmse                                     2.337867\n",
      "val_rmse                                       2.902607\n",
      "dtype: object\n",
      "Regularization: 1.0\n",
      "New optimal hyperparameters\n",
      "n_factors                                            10\n",
      "reg                                                 1.0\n",
      "n_iter                                              100\n",
      "train_mse                                           inf\n",
      "test_mse                                            inf\n",
      "model         <__main__.MFals object at 0x7f529aff1050>\n",
      "train_rmse                                     2.340882\n",
      "val_rmse                                       2.904862\n",
      "dtype: object\n",
      "Regularization: 10.0\n",
      "New optimal hyperparameters\n",
      "n_factors                                            10\n",
      "reg                                                10.0\n",
      "n_iter                                              100\n",
      "train_mse                                           inf\n",
      "test_mse                                            inf\n",
      "model         <__main__.MFals object at 0x7f529aff1350>\n",
      "train_rmse                                     2.368294\n",
      "val_rmse                                       2.926803\n",
      "dtype: object\n",
      "Regularization: 100.0\n"
     ]
    },
    {
     "name": "stderr",
     "output_type": "stream",
     "text": [
      "\r",
      " 40%|████      | 2/5 [03:00<04:31, 90.50s/it]"
     ]
    },
    {
     "name": "stdout",
     "output_type": "stream",
     "text": [
      "New optimal hyperparameters\n",
      "n_factors                                            10\n",
      "reg                                               100.0\n",
      "n_iter                                               50\n",
      "train_mse                                           inf\n",
      "test_mse                                            inf\n",
      "model         <__main__.MFals object at 0x7f529aff1190>\n",
      "train_rmse                                     2.738408\n",
      "val_rmse                                       3.193542\n",
      "dtype: object\n",
      "Factors: 20\n",
      "Regularization: 0.1\n",
      "New optimal hyperparameters\n",
      "n_factors                                            20\n",
      "reg                                                 0.1\n",
      "n_iter                                              100\n",
      "train_mse                                           inf\n",
      "test_mse                                            inf\n",
      "model         <__main__.MFals object at 0x7f529aff1490>\n",
      "train_rmse                                     2.196804\n",
      "val_rmse                                       2.883696\n",
      "dtype: object\n",
      "Regularization: 1.0\n",
      "New optimal hyperparameters\n",
      "n_factors                                            20\n",
      "reg                                                 1.0\n",
      "n_iter                                              100\n",
      "train_mse                                           inf\n",
      "test_mse                                            inf\n",
      "model         <__main__.MFals object at 0x7f529aff1410>\n",
      "train_rmse                                     2.200255\n",
      "val_rmse                                       2.886148\n",
      "dtype: object\n",
      "Regularization: 10.0\n",
      "New optimal hyperparameters\n",
      "n_factors                                            20\n",
      "reg                                                10.0\n",
      "n_iter                                              100\n",
      "train_mse                                           inf\n",
      "test_mse                                            inf\n",
      "model         <__main__.MFals object at 0x7f529aff1150>\n",
      "train_rmse                                     2.238419\n",
      "val_rmse                                       2.908402\n",
      "dtype: object\n",
      "Regularization: 100.0\n"
     ]
    },
    {
     "name": "stderr",
     "output_type": "stream",
     "text": [
      "\r",
      " 60%|██████    | 3/5 [04:31<03:01, 90.76s/it]"
     ]
    },
    {
     "name": "stdout",
     "output_type": "stream",
     "text": [
      "New optimal hyperparameters\n",
      "n_factors                                            20\n",
      "reg                                               100.0\n",
      "n_iter                                               50\n",
      "train_mse                                           inf\n",
      "test_mse                                            inf\n",
      "model         <__main__.MFals object at 0x7f529aff1650>\n",
      "train_rmse                                     2.738408\n",
      "val_rmse                                       3.193542\n",
      "dtype: object\n",
      "Factors: 40\n",
      "Regularization: 0.1\n",
      "New optimal hyperparameters\n",
      "n_factors                                            40\n",
      "reg                                                 0.1\n",
      "n_iter                                              100\n",
      "train_mse                                           inf\n",
      "test_mse                                            inf\n",
      "model         <__main__.MFals object at 0x7f529aff15d0>\n",
      "train_rmse                                     1.996241\n",
      "val_rmse                                       2.949918\n",
      "dtype: object\n",
      "Regularization: 1.0\n",
      "New optimal hyperparameters\n",
      "n_factors                                            40\n",
      "reg                                                 1.0\n",
      "n_iter                                              100\n",
      "train_mse                                           inf\n",
      "test_mse                                            inf\n",
      "model         <__main__.MFals object at 0x7f529aff10d0>\n",
      "train_rmse                                     2.000739\n",
      "val_rmse                                       2.951765\n",
      "dtype: object\n",
      "Regularization: 10.0\n",
      "New optimal hyperparameters\n",
      "n_factors                                            40\n",
      "reg                                                10.0\n",
      "n_iter                                              100\n",
      "train_mse                                           inf\n",
      "test_mse                                            inf\n",
      "model         <__main__.MFals object at 0x7f529aff1350>\n",
      "train_rmse                                     2.057048\n",
      "val_rmse                                       2.963063\n",
      "dtype: object\n",
      "Regularization: 100.0\n"
     ]
    },
    {
     "name": "stderr",
     "output_type": "stream",
     "text": [
      "\r",
      " 80%|████████  | 4/5 [06:13<01:35, 95.19s/it]"
     ]
    },
    {
     "name": "stdout",
     "output_type": "stream",
     "text": [
      "New optimal hyperparameters\n",
      "n_factors                                            40\n",
      "reg                                               100.0\n",
      "n_iter                                               25\n",
      "train_mse                                           inf\n",
      "test_mse                                            inf\n",
      "model         <__main__.MFals object at 0x7f529aff1610>\n",
      "train_rmse                                     2.738407\n",
      "val_rmse                                       3.193542\n",
      "dtype: object\n",
      "Factors: 80\n",
      "Regularization: 0.1\n",
      "New optimal hyperparameters\n",
      "n_factors                                            80\n",
      "reg                                                 0.1\n",
      "n_iter                                                2\n",
      "train_mse                                           inf\n",
      "test_mse                                            inf\n",
      "model         <__main__.MFals object at 0x7f529aff1190>\n",
      "train_rmse                                     1.772862\n",
      "val_rmse                                       3.096159\n",
      "dtype: object\n",
      "Regularization: 1.0\n",
      "New optimal hyperparameters\n",
      "n_factors                                            80\n",
      "reg                                                 1.0\n",
      "n_iter                                                2\n",
      "train_mse                                           inf\n",
      "test_mse                                            inf\n",
      "model         <__main__.MFals object at 0x7f52d4a8b590>\n",
      "train_rmse                                     1.837368\n",
      "val_rmse                                       3.088685\n",
      "dtype: object\n",
      "Regularization: 10.0\n",
      "New optimal hyperparameters\n",
      "n_factors                                            80\n",
      "reg                                                10.0\n",
      "n_iter                                               50\n",
      "train_mse                                           inf\n",
      "test_mse                                            inf\n",
      "model         <__main__.MFals object at 0x7f529aff1150>\n",
      "train_rmse                                     1.775078\n",
      "val_rmse                                       3.108734\n",
      "dtype: object\n",
      "Regularization: 100.0\n"
     ]
    },
    {
     "name": "stderr",
     "output_type": "stream",
     "text": [
      "100%|██████████| 5/5 [08:50<00:00, 106.10s/it]"
     ]
    },
    {
     "name": "stdout",
     "output_type": "stream",
     "text": [
      "New optimal hyperparameters\n",
      "n_factors                                            80\n",
      "reg                                               100.0\n",
      "n_iter                                               25\n",
      "train_mse                                           inf\n",
      "test_mse                                            inf\n",
      "model         <__main__.MFals object at 0x7f529aff1290>\n",
      "train_rmse                                     2.738402\n",
      "val_rmse                                       3.193539\n",
      "dtype: object\n",
      "CPU times: user 12min 43s, sys: 1.76 s, total: 12min 44s\n",
      "Wall time: 8min 50s\n"
     ]
    },
    {
     "name": "stderr",
     "output_type": "stream",
     "text": [
      "\n"
     ]
    }
   ],
   "source": [
    "%%time\n",
    "latent_factors = [5, 10, 20, 40, 80]\n",
    "regularizations = [0.1, 1., 10., 100.]\n",
    "regularizations.sort()\n",
    "iter_array = [1, 2, 5, 10, 25, 50, 100]\n",
    "\n",
    "best_params = {}\n",
    "best_params['n_factors'] = latent_factors[0]\n",
    "best_params['reg'] = regularizations[0]\n",
    "best_params['n_iter'] = 0\n",
    "best_params['train_mse'] = np.inf\n",
    "best_params['test_mse'] = np.inf\n",
    "best_params['model'] = None\n",
    "\n",
    "for fact in tqdm(latent_factors):\n",
    "    print(f'Factors: {fact}')\n",
    "    for reg in regularizations:\n",
    "        print(f'Regularization: {reg}')\n",
    "        MF_alsFineTuned = MFals(train, n_factors=fact, \\\n",
    "                            user_reg=reg, item_reg=reg)\n",
    "        MF_alsFineTuned.calculate_learning_curve(iter_array, validation)\n",
    "        min_idx = np.argmin(MF_alsFineTuned.val_rmse)\n",
    "        if MF_alsFineTuned.val_rmse[min_idx] < best_params['test_mse']:\n",
    "            best_params['n_factors'] = fact\n",
    "            best_params['reg'] = reg\n",
    "            best_params['n_iter'] = iter_array[min_idx]\n",
    "            best_params['train_rmse'] = MF_alsFineTuned.train_rmse[min_idx]\n",
    "            best_params['val_rmse'] = MF_alsFineTuned.val_rmse[min_idx]\n",
    "            best_params['model'] = MF_alsFineTuned\n",
    "            print('New optimal hyperparameters')\n",
    "            print(pd.Series(best_params))"
   ]
  },
  {
   "cell_type": "code",
   "execution_count": 47,
   "metadata": {},
   "outputs": [
    {
     "data": {
      "image/png": "[encoded data removed]",
      "text/plain": [
       "<Figure size 432x288 with 1 Axes>"
      ]
     },
     "metadata": {},
     "output_type": "display_data"
    }
   ],
   "source": [
    "plot_learning_curve(iter_array, best_params['model'])\n"
   ]
  },
  {
   "cell_type": "code",
   "execution_count": 48,
   "metadata": {
    "scrolled": true
   },
   "outputs": [
    {
     "name": "stdout",
     "output_type": "stream",
     "text": [
      "Best regularization: 100.0\n",
      "Best latent factors: 80\n",
      "Best iterations: 25\n"
     ]
    }
   ],
   "source": [
    "print(f'Best regularization: {best_params[\"reg\"]}')\n",
    "print(f'Best latent factors: {best_params[\"n_factors\"]}')\n",
    "print(f'Best iterations: {best_params[\"n_iter\"]}')"
   ]
  },
  {
   "cell_type": "markdown",
   "metadata": {},
   "source": [
    "We can see that the best validation RMSE is at around 2.95 and that only the iteration count reached its maximum to a 100. To further fine tune the  grid searc, we could have increased to a wider range.\n",
    "\n",
    "The best performing parameters are 10 factors and a reg ter of 0.1 on both users and items"
   ]
  },
  {
   "cell_type": "markdown",
   "metadata": {},
   "source": [
    "## MF Implementation with Stochastic Gradient Descent (SGD) "
   ]
  },
  {
   "cell_type": "markdown",
   "metadata": {},
   "source": [
    "With SGD, we again take derivatives of the loss function, but we take the derivative with respect to each variable in the model\n",
    "\n",
    "\n",
    "How do we derive the loss function?\n",
    "\n",
    "We will use a similar loss function to before, but with some more details to the model. Instead of assuming that a user u’s rating for item i can be described simply by the dot product of the user and item latent vectors, we will consider that each user and item can have a bias term associated with them.\n"
   ]
  },
  {
   "cell_type": "markdown",
   "metadata": {},
   "source": [
    "We are going to implement MF with sgd derivation added this time!"
   ]
  },
  {
   "cell_type": "code",
   "execution_count": 19,
   "metadata": {},
   "outputs": [],
   "source": [
    "class MF():\n",
    "    def __init__(self, \n",
    "                 ratings,\n",
    "                 n_factors=40,\n",
    "                 learning='sgd',\n",
    "                 item_fact_reg=0.0, \n",
    "                 user_fact_reg=0.0,\n",
    "                 item_bias_reg=0.0,\n",
    "                 user_bias_reg=0.0,\n",
    "                 verbose=False):\n",
    "        \"\"\"\n",
    "        Train a matrix factorization model to predict empty \n",
    "        entries in a matrix. The terminology assumes a \n",
    "        ratings matrix which is ~ user x item\n",
    "        \n",
    "        Params\n",
    "        ======\n",
    "        ratings : (ndarray)\n",
    "            User x Item matrix with corresponding ratings\n",
    "        \n",
    "        n_factors : (int)\n",
    "            Number of latent factors to use in matrix \n",
    "            factorization model\n",
    "        learning : (str)\n",
    "            Method of optimization. Options include \n",
    "            'sgd' or 'als'.\n",
    "        \n",
    "        item_fact_reg : (float)\n",
    "            Regularization term for item latent factors\n",
    "        \n",
    "        user_fact_reg : (float)\n",
    "            Regularization term for user latent factors\n",
    "            \n",
    "        item_bias_reg : (float)\n",
    "            Regularization term for item biases\n",
    "        \n",
    "        user_bias_reg : (float)\n",
    "            Regularization term for user biases\n",
    "        \n",
    "        verbose : (bool)\n",
    "            Whether or not to printout training progress\n",
    "        \"\"\"\n",
    "        \n",
    "        self.ratings = ratings\n",
    "        self.n_users, self.n_items = ratings.shape\n",
    "        self.n_factors = n_factors\n",
    "        self.item_fact_reg = item_fact_reg\n",
    "        self.user_fact_reg = user_fact_reg\n",
    "        self.item_bias_reg = item_bias_reg\n",
    "        self.user_bias_reg = user_bias_reg\n",
    "        self.learning = learning\n",
    "        if self.learning == 'sgd':\n",
    "            self.sample_row, self.sample_col = self.ratings.nonzero()\n",
    "            self.n_samples = len(self.sample_row)\n",
    "        self._v = verbose\n",
    "\n",
    "    def als_step(self,\n",
    "                 latent_vectors,\n",
    "                 fixed_vecs,\n",
    "                 ratings,\n",
    "                 _lambda,\n",
    "                 type='user'):\n",
    "        \"\"\"\n",
    "        One of the two ALS steps. Solve for the latent vectors\n",
    "        specified by type.\n",
    "        \"\"\"\n",
    "        if type == 'user':\n",
    "            # Precompute\n",
    "            YTY = fixed_vecs.T.dot(fixed_vecs)\n",
    "            lambdaI = np.eye(YTY.shape[0]) * _lambda\n",
    "\n",
    "            for u in range(latent_vectors.shape[0]):\n",
    "                latent_vectors[u, :] = solve((YTY + lambdaI), \n",
    "                                             ratings[u, :].dot(fixed_vecs))\n",
    "        elif type == 'item':\n",
    "            # Precompute\n",
    "            XTX = fixed_vecs.T.dot(fixed_vecs)\n",
    "            lambdaI = np.eye(XTX.shape[0]) * _lambda\n",
    "            \n",
    "            for i in range(latent_vectors.shape[0]):\n",
    "                latent_vectors[i, :] = solve((XTX + lambdaI), \n",
    "                                             ratings[:, i].T.dot(fixed_vecs))\n",
    "        return latent_vectors\n",
    "\n",
    "    def train(self, n_iter=10, learning_rate=0.1):\n",
    "        \"\"\" Train model for n_iter iterations from scratch.\"\"\"\n",
    "        # initialize latent vectors        \n",
    "        self.user_vecs = np.random.normal(scale=1./self.n_factors,\\\n",
    "                                          size=(self.n_users, self.n_factors))\n",
    "        self.item_vecs = np.random.normal(scale=1./self.n_factors,\n",
    "                                          size=(self.n_items, self.n_factors))\n",
    "        \n",
    "        if self.learning == 'als':\n",
    "            self.partial_train(n_iter)\n",
    "        elif self.learning == 'sgd':\n",
    "            self.learning_rate = learning_rate\n",
    "            self.user_bias = np.zeros(self.n_users)\n",
    "            self.item_bias = np.zeros(self.n_items)\n",
    "            self.global_bias = np.mean(self.ratings[np.where(self.ratings != 0)])\n",
    "            self.partial_train(n_iter)\n",
    "    \n",
    "    \n",
    "    def partial_train(self, n_iter):\n",
    "        \"\"\" \n",
    "        Train model for n_iter iterations. Can be \n",
    "        called multiple times for further training.\n",
    "        \"\"\"\n",
    "        ctr = 1\n",
    "        while ctr <= n_iter:\n",
    "            if ctr % 10 == 0 and self._v:\n",
    "                print(f'\\tcurrent iteration: {ctr}')\n",
    "            if self.learning == 'als':\n",
    "                self.user_vecs = self.als_step(self.user_vecs, \n",
    "                                               self.item_vecs, \n",
    "                                               self.ratings, \n",
    "                                               self.user_fact_reg, \n",
    "                                               type='user')\n",
    "                self.item_vecs = self.als_step(self.item_vecs, \n",
    "                                               self.user_vecs, \n",
    "                                               self.ratings, \n",
    "                                               self.item_fact_reg, \n",
    "                                               type='item')\n",
    "            elif self.learning == 'sgd':\n",
    "                self.training_indices = np.arange(self.n_samples)\n",
    "                np.random.shuffle(self.training_indices)\n",
    "                self.sgd()\n",
    "            ctr += 1\n",
    "\n",
    "    def sgd(self):\n",
    "        for idx in self.training_indices:\n",
    "            u = self.sample_row[idx]\n",
    "            i = self.sample_col[idx]\n",
    "            prediction = self.predict(u, i)\n",
    "            e = (self.ratings[u,i] - prediction) # error\n",
    "            \n",
    "            # Update biases\n",
    "            self.user_bias[u] += self.learning_rate * \\\n",
    "                                (e - self.user_bias_reg * self.user_bias[u])\n",
    "            self.item_bias[i] += self.learning_rate * \\\n",
    "                                (e - self.item_bias_reg * self.item_bias[i])\n",
    "            \n",
    "            #Update latent factors\n",
    "            self.user_vecs[u, :] += self.learning_rate * \\\n",
    "                                    (e * self.item_vecs[i, :] - \\\n",
    "                                     self.user_fact_reg * self.user_vecs[u,:])\n",
    "            self.item_vecs[i, :] += self.learning_rate * \\\n",
    "                                    (e * self.user_vecs[u, :] - \\\n",
    "                                     self.item_fact_reg * self.item_vecs[i,:])\n",
    "    def predict(self, u, i):\n",
    "        \"\"\" Single user and item prediction.\"\"\"\n",
    "        if self.learning == 'als':\n",
    "            return self.user_vecs[u, :].dot(self.item_vecs[i, :].T)\n",
    "        elif self.learning == 'sgd':\n",
    "            prediction = self.global_bias + self.user_bias[u] + self.item_bias[i]\n",
    "            prediction += self.user_vecs[u, :].dot(self.item_vecs[i, :].T)\n",
    "            return prediction\n",
    "    \n",
    "    def predict_all(self):\n",
    "        \"\"\" Predict ratings for every user and item.\"\"\"\n",
    "        predictions = np.zeros((self.user_vecs.shape[0], \n",
    "                                self.item_vecs.shape[0]))\n",
    "        for u in range(self.user_vecs.shape[0]):\n",
    "            for i in range(self.item_vecs.shape[0]):\n",
    "                predictions[u, i] = self.predict(u, i)\n",
    "                \n",
    "        return predictions\n",
    "    \n",
    "    def calculate_learning_curve(self, iter_array, val, learning_rate=0.1, training=True):\n",
    "        \"\"\"\n",
    "        Keep track of RMSE as a function of training iterations.\n",
    "        \n",
    "        Params\n",
    "        ======\n",
    "        iter_array : (list)\n",
    "            List of numbers of iterations to train for each step of \n",
    "            the learning curve. e.g. [1, 5, 10, 20]\n",
    "        test : (2D ndarray)\n",
    "            Testing dataset (assumed to be user x item).\n",
    "        \n",
    "        The function creates two new class attributes:\n",
    "        \n",
    "        train_rmse : (list)\n",
    "            Training data MSE values for each value of iter_array\n",
    "        val_rmse : (list)\n",
    "            Test data MSE values for each value of iter_array\n",
    "        \"\"\"\n",
    "        if training:\n",
    "            iter_array.sort()\n",
    "            self.train_rmse =[]\n",
    "            self.val_rmse = []\n",
    "            iter_diff = 0\n",
    "            for (i, n_iter) in enumerate(iter_array):\n",
    "                if self._v:\n",
    "                    print(f'Iteration: {n_iter}')\n",
    "                if i == 0:\n",
    "                    self.train(n_iter - iter_diff, learning_rate)\n",
    "                else:\n",
    "                    self.partial_train(n_iter - iter_diff)\n",
    "\n",
    "                predictions = self.predict_all()\n",
    "\n",
    "                self.train_rmse += [get_rmse(predictions, self.ratings)]\n",
    "                self.val_rmse += [get_rmse(predictions, val)]\n",
    "                if self._v:\n",
    "                    print('Train rmse: ' + str(self.train_rmse[-1]))\n",
    "                    print('Val rmse: ' + str(self.val_rmse[-1]))\n",
    "                iter_diff = n_iter\n",
    "            \n",
    "        if training == False:\n",
    "            iter_array.sort()\n",
    "            self.test_rmse = []\n",
    "            iter_diff = 0\n",
    "            for (i, n_iter) in enumerate(iter_array):\n",
    "            \n",
    "                predictions = self.predict_all()\n",
    "\n",
    "                self.test_rmse += [get_rmse(predictions, val)]\n",
    "\n",
    "                iter_diff = n_iter"
   ]
  },
  {
   "cell_type": "code",
   "execution_count": null,
   "metadata": {
    "scrolled": true
   },
   "outputs": [
    {
     "name": "stdout",
     "output_type": "stream",
     "text": [
      "Iteration: 1\n",
      "Train rmse: 1.0693695647023436\n",
      "Val rmse: 1.0869119473389608\n",
      "Iteration: 2\n",
      "Train rmse: 1.036270835186552\n",
      "Val rmse: 1.0638942574643966\n",
      "Iteration: 5\n",
      "Train rmse: 0.988401208960564\n",
      "Val rmse: 1.0280776147667292\n",
      "Iteration: 10\n",
      "Train rmse: 0.9583442330641254\n",
      "Val rmse: 1.0045550666234548\n",
      "Iteration: 25\n",
      "\tcurrent iteration: 10\n",
      "Train rmse: 0.9302957148567781\n",
      "Val rmse: 0.98180147576279\n",
      "Iteration: 50\n",
      "\tcurrent iteration: 10\n",
      "\tcurrent iteration: 20\n",
      "Train rmse: 0.9148931762673602\n",
      "Val rmse: 0.970758191200659\n",
      "Iteration: 100\n",
      "\tcurrent iteration: 10\n",
      "\tcurrent iteration: 20\n",
      "\tcurrent iteration: 30\n"
     ]
    }
   ],
   "source": [
    "%%time\n",
    "MF_sgd = MF(train, 40, learning='sgd', verbose=True)\n",
    "iter_array = [1, 2, 5, 10, 25, 50, 100, 200]\n",
    "MF_sgd.calculate_learning_curve(iter_array, validation, learning_rate=0.001)"
   ]
  },
  {
   "cell_type": "code",
   "execution_count": 18,
   "metadata": {},
   "outputs": [
    {
     "ename": "NameError",
     "evalue": "name 'MF_sgd' is not defined",
     "output_type": "error",
     "traceback": [
      "\u001b[0;31m---------------------------------------------------------------------------\u001b[0m",
      "\u001b[0;31mNameError\u001b[0m                                 Traceback (most recent call last)",
      "\u001b[0;32m<ipython-input-18-f9e669f70b04>\u001b[0m in \u001b[0;36m<module>\u001b[0;34m\u001b[0m\n\u001b[0;32m----> 1\u001b[0;31m \u001b[0mplot_learning_curve\u001b[0m\u001b[0;34m(\u001b[0m\u001b[0miter_array\u001b[0m\u001b[0;34m,\u001b[0m \u001b[0mMF_sgd\u001b[0m\u001b[0;34m)\u001b[0m\u001b[0;34m\u001b[0m\u001b[0;34m\u001b[0m\u001b[0m\n\u001b[0m",
      "\u001b[0;31mNameError\u001b[0m: name 'MF_sgd' is not defined"
     ]
    }
   ],
   "source": [
    "plot_learning_curve(iter_array, MF_sgd)"
   ]
  },
  {
   "cell_type": "markdown",
   "metadata": {},
   "source": [
    "It is better than before in terms of performance but a lot longer in terms of execution. It might be due to the inclusion of the bias terms. Let us assess the test vs validation error."
   ]
  },
  {
   "cell_type": "code",
   "execution_count": 39,
   "metadata": {},
   "outputs": [
    {
     "data": {
      "image/png": "[encoded data removed]",
      "text/plain": [
       "<Figure size 432x288 with 1 Axes>"
      ]
     },
     "metadata": {},
     "output_type": "display_data"
    }
   ],
   "source": [
    "MF_sgd.calculate_learning_curve(iter_array, test, learning_rate=0.001, training=False)\n",
    "\n",
    "plot_learning_curveTest(iter_array, MF_sgd)"
   ]
  },
  {
   "cell_type": "markdown",
   "metadata": {},
   "source": [
    "Test behavior is consistent with the validation error"
   ]
  },
  {
   "cell_type": "markdown",
   "metadata": {},
   "source": [
    "Let us optimize the SGD model by fine tuning first its learning rate hyperparameters"
   ]
  },
  {
   "cell_type": "code",
   "execution_count": 47,
   "metadata": {},
   "outputs": [
    {
     "name": "stdout",
     "output_type": "stream",
     "text": [
      "Rate: 1e-05\n",
      "New optimal hyperparameters\n",
      "learning_rate                                   0.00001\n",
      "n_iter                                              200\n",
      "train_rmse                                     1.035116\n",
      "val_rmse                                       1.077981\n",
      "model            <__main__.MF object at 0x7fde96c64640>\n",
      "dtype: object\n",
      "Rate: 0.0001\n",
      "New optimal hyperparameters\n",
      "learning_rate                                    0.0001\n",
      "n_iter                                              200\n",
      "train_rmse                                     0.935069\n",
      "val_rmse                                       1.000184\n",
      "model            <__main__.MF object at 0x7fde96c642b0>\n",
      "dtype: object\n",
      "Rate: 0.001\n",
      "New optimal hyperparameters\n",
      "learning_rate                                     0.001\n",
      "n_iter                                              200\n",
      "train_rmse                                     0.636204\n",
      "val_rmse                                       0.971036\n",
      "model            <__main__.MF object at 0x7fde96d8b340>\n",
      "dtype: object\n",
      "Rate: 0.01\n"
     ]
    }
   ],
   "source": [
    "%% time\n",
    "iter_array = [1, 2, 5, 10, 25, 50, 100, 200]\n",
    "learning_rates = [1e-5, 1e-4, 1e-3, 1e-2]\n",
    "\n",
    "best_params = {}\n",
    "best_params['learning_rate'] = None\n",
    "best_params['n_iter'] = 0\n",
    "best_params['train_rmse'] = np.inf\n",
    "best_params['val_rmse'] = np.inf\n",
    "best_params['model'] = None\n",
    "\n",
    "\n",
    "for rate in learning_rates:\n",
    "    print(f'Rate: {rate}')\n",
    "    MF_sgdOpt = MF(train, n_factors=40, learning='sgd')\n",
    "    MF_sgdOpt.calculate_learning_curve(iter_array, validation, learning_rate=rate)\n",
    "    min_idx = np.argmin(MF_sgdOpt.val_rmse)\n",
    "    if MF_sgdOpt.val_rmse[min_idx] < best_params['val_rmse']:\n",
    "        best_params['n_iter'] = iter_array[min_idx]\n",
    "        best_params['learning_rate'] = rate\n",
    "        best_params['train_rmse'] = MF_sgdOpt.train_rmse[min_idx]\n",
    "        best_params['val_rmse'] = MF_sgdOpt.val_rmse[min_idx]\n",
    "        best_params['model'] = MF_sgdOpt\n",
    "        print('New optimal hyperparameters')\n",
    "        print(pd.Series(best_params))"
   ]
  },
  {
   "cell_type": "markdown",
   "metadata": {},
   "source": [
    "The best validation rmse is at a learning rate of 0.001."
   ]
  },
  {
   "cell_type": "code",
   "execution_count": 48,
   "metadata": {},
   "outputs": [
    {
     "name": "stdout",
     "output_type": "stream",
     "text": [
      "Factors: 5\n",
      "Regularization: 0.001\n",
      "New optimal hyperparameters\n",
      "n_factors                                          5\n",
      "reg                                            0.001\n",
      "n_iter                                           100\n",
      "train_rmse                                  0.872719\n",
      "val_rmse                                    0.992934\n",
      "model         <__main__.MF object at 0x7fde96caea60>\n",
      "dtype: object\n",
      "Regularization: 0.01\n",
      "New optimal hyperparameters\n",
      "n_factors                                          5\n",
      "reg                                             0.01\n",
      "n_iter                                           200\n",
      "train_rmse                                  0.814386\n",
      "val_rmse                                    0.977393\n",
      "model         <__main__.MF object at 0x7fde96c6caf0>\n",
      "dtype: object\n",
      "Regularization: 0.1\n",
      "New optimal hyperparameters\n",
      "n_factors                                          5\n",
      "reg                                              0.1\n",
      "n_iter                                           200\n",
      "train_rmse                                  0.882098\n",
      "val_rmse                                    0.976779\n",
      "model         <__main__.MF object at 0x7fde96c6cc10>\n",
      "dtype: object\n",
      "Regularization: 1.0\n",
      "Factors: 10\n",
      "Regularization: 0.001\n",
      "Regularization: 0.01\n",
      "Regularization: 0.1\n",
      "New optimal hyperparameters\n",
      "n_factors                                         10\n",
      "reg                                              0.1\n",
      "n_iter                                           200\n",
      "train_rmse                                  0.875066\n",
      "val_rmse                                    0.973309\n",
      "model         <__main__.MF object at 0x7fde97006160>\n",
      "dtype: object\n",
      "Regularization: 1.0\n",
      "Factors: 20\n",
      "Regularization: 0.001\n",
      "Regularization: 0.01\n",
      "New optimal hyperparameters\n",
      "n_factors                                         20\n",
      "reg                                             0.01\n",
      "n_iter                                           200\n",
      "train_rmse                                    0.7042\n",
      "val_rmse                                    0.972121\n",
      "model         <__main__.MF object at 0x7fde96caea60>\n",
      "dtype: object\n",
      "Regularization: 0.1\n",
      "Regularization: 1.0\n",
      "Factors: 40\n",
      "Regularization: 0.001\n",
      "New optimal hyperparameters\n",
      "n_factors                                         40\n",
      "reg                                            0.001\n",
      "n_iter                                           200\n",
      "train_rmse                                  0.643126\n",
      "val_rmse                                    0.969508\n",
      "model         <__main__.MF object at 0x7fde96c6caf0>\n",
      "dtype: object\n",
      "Regularization: 0.01\n",
      "New optimal hyperparameters\n",
      "n_factors                                         40\n",
      "reg                                             0.01\n",
      "n_iter                                           200\n",
      "train_rmse                                  0.674036\n",
      "val_rmse                                    0.959299\n",
      "model         <__main__.MF object at 0x7fde96c6c4c0>\n",
      "dtype: object\n",
      "Regularization: 0.1\n",
      "Regularization: 1.0\n"
     ]
    },
    {
     "ename": "KeyboardInterrupt",
     "evalue": "",
     "output_type": "error",
     "traceback": [
      "\u001b[0;31m---------------------------------------------------------------------------\u001b[0m",
      "\u001b[0;31mKeyboardInterrupt\u001b[0m                         Traceback (most recent call last)",
      "\u001b[0;32m<ipython-input-48-8aaf16f204a1>\u001b[0m in \u001b[0;36m<module>\u001b[0;34m\u001b[0m\n\u001b[1;32m     19\u001b[0m                             \u001b[0muser_fact_reg\u001b[0m\u001b[0;34m=\u001b[0m\u001b[0mreg\u001b[0m\u001b[0;34m,\u001b[0m \u001b[0mitem_fact_reg\u001b[0m\u001b[0;34m=\u001b[0m\u001b[0mreg\u001b[0m\u001b[0;34m,\u001b[0m\u001b[0;31m \u001b[0m\u001b[0;31m\\\u001b[0m\u001b[0;34m\u001b[0m\u001b[0;34m\u001b[0m\u001b[0m\n\u001b[1;32m     20\u001b[0m                             user_bias_reg=reg, item_bias_reg=reg)\n\u001b[0;32m---> 21\u001b[0;31m         \u001b[0mMF_sgdOpt2\u001b[0m\u001b[0;34m.\u001b[0m\u001b[0mcalculate_learning_curve\u001b[0m\u001b[0;34m(\u001b[0m\u001b[0miter_array\u001b[0m\u001b[0;34m,\u001b[0m \u001b[0mvalidation\u001b[0m\u001b[0;34m,\u001b[0m \u001b[0mlearning_rate\u001b[0m\u001b[0;34m=\u001b[0m\u001b[0;36m0.001\u001b[0m\u001b[0;34m)\u001b[0m\u001b[0;34m\u001b[0m\u001b[0;34m\u001b[0m\u001b[0m\n\u001b[0m\u001b[1;32m     22\u001b[0m         \u001b[0mmin_idx\u001b[0m \u001b[0;34m=\u001b[0m \u001b[0mnp\u001b[0m\u001b[0;34m.\u001b[0m\u001b[0margmin\u001b[0m\u001b[0;34m(\u001b[0m\u001b[0mMF_sgdOpt2\u001b[0m\u001b[0;34m.\u001b[0m\u001b[0mval_rmse\u001b[0m\u001b[0;34m)\u001b[0m\u001b[0;34m\u001b[0m\u001b[0;34m\u001b[0m\u001b[0m\n\u001b[1;32m     23\u001b[0m         \u001b[0;32mif\u001b[0m \u001b[0mMF_sgdOpt2\u001b[0m\u001b[0;34m.\u001b[0m\u001b[0mval_rmse\u001b[0m\u001b[0;34m[\u001b[0m\u001b[0mmin_idx\u001b[0m\u001b[0;34m]\u001b[0m \u001b[0;34m<\u001b[0m \u001b[0mbest_params\u001b[0m\u001b[0;34m[\u001b[0m\u001b[0;34m'val_rmse'\u001b[0m\u001b[0;34m]\u001b[0m\u001b[0;34m:\u001b[0m\u001b[0;34m\u001b[0m\u001b[0;34m\u001b[0m\u001b[0m\n",
      "\u001b[0;32m<ipython-input-35-8a742def0130>\u001b[0m in \u001b[0;36mcalculate_learning_curve\u001b[0;34m(self, iter_array, val, learning_rate, training)\u001b[0m\n\u001b[1;32m    196\u001b[0m                     \u001b[0mself\u001b[0m\u001b[0;34m.\u001b[0m\u001b[0mtrain\u001b[0m\u001b[0;34m(\u001b[0m\u001b[0mn_iter\u001b[0m \u001b[0;34m-\u001b[0m \u001b[0miter_diff\u001b[0m\u001b[0;34m,\u001b[0m \u001b[0mlearning_rate\u001b[0m\u001b[0;34m)\u001b[0m\u001b[0;34m\u001b[0m\u001b[0;34m\u001b[0m\u001b[0m\n\u001b[1;32m    197\u001b[0m                 \u001b[0;32melse\u001b[0m\u001b[0;34m:\u001b[0m\u001b[0;34m\u001b[0m\u001b[0;34m\u001b[0m\u001b[0m\n\u001b[0;32m--> 198\u001b[0;31m                     \u001b[0mself\u001b[0m\u001b[0;34m.\u001b[0m\u001b[0mpartial_train\u001b[0m\u001b[0;34m(\u001b[0m\u001b[0mn_iter\u001b[0m \u001b[0;34m-\u001b[0m \u001b[0miter_diff\u001b[0m\u001b[0;34m)\u001b[0m\u001b[0;34m\u001b[0m\u001b[0;34m\u001b[0m\u001b[0m\n\u001b[0m\u001b[1;32m    199\u001b[0m \u001b[0;34m\u001b[0m\u001b[0m\n\u001b[1;32m    200\u001b[0m                 \u001b[0mpredictions\u001b[0m \u001b[0;34m=\u001b[0m \u001b[0mself\u001b[0m\u001b[0;34m.\u001b[0m\u001b[0mpredict_all\u001b[0m\u001b[0;34m(\u001b[0m\u001b[0;34m)\u001b[0m\u001b[0;34m\u001b[0m\u001b[0;34m\u001b[0m\u001b[0m\n",
      "\u001b[0;32m<ipython-input-35-8a742def0130>\u001b[0m in \u001b[0;36mpartial_train\u001b[0;34m(self, n_iter)\u001b[0m\n\u001b[1;32m    124\u001b[0m                 \u001b[0mself\u001b[0m\u001b[0;34m.\u001b[0m\u001b[0mtraining_indices\u001b[0m \u001b[0;34m=\u001b[0m \u001b[0mnp\u001b[0m\u001b[0;34m.\u001b[0m\u001b[0marange\u001b[0m\u001b[0;34m(\u001b[0m\u001b[0mself\u001b[0m\u001b[0;34m.\u001b[0m\u001b[0mn_samples\u001b[0m\u001b[0;34m)\u001b[0m\u001b[0;34m\u001b[0m\u001b[0;34m\u001b[0m\u001b[0m\n\u001b[1;32m    125\u001b[0m                 \u001b[0mnp\u001b[0m\u001b[0;34m.\u001b[0m\u001b[0mrandom\u001b[0m\u001b[0;34m.\u001b[0m\u001b[0mshuffle\u001b[0m\u001b[0;34m(\u001b[0m\u001b[0mself\u001b[0m\u001b[0;34m.\u001b[0m\u001b[0mtraining_indices\u001b[0m\u001b[0;34m)\u001b[0m\u001b[0;34m\u001b[0m\u001b[0;34m\u001b[0m\u001b[0m\n\u001b[0;32m--> 126\u001b[0;31m                 \u001b[0mself\u001b[0m\u001b[0;34m.\u001b[0m\u001b[0msgd\u001b[0m\u001b[0;34m(\u001b[0m\u001b[0;34m)\u001b[0m\u001b[0;34m\u001b[0m\u001b[0;34m\u001b[0m\u001b[0m\n\u001b[0m\u001b[1;32m    127\u001b[0m             \u001b[0mctr\u001b[0m \u001b[0;34m+=\u001b[0m \u001b[0;36m1\u001b[0m\u001b[0;34m\u001b[0m\u001b[0;34m\u001b[0m\u001b[0m\n\u001b[1;32m    128\u001b[0m \u001b[0;34m\u001b[0m\u001b[0m\n",
      "\u001b[0;32m<ipython-input-35-8a742def0130>\u001b[0m in \u001b[0;36msgd\u001b[0;34m(self)\u001b[0m\n\u001b[1;32m    142\u001b[0m             \u001b[0;31m#Update latent factors\u001b[0m\u001b[0;34m\u001b[0m\u001b[0;34m\u001b[0m\u001b[0;34m\u001b[0m\u001b[0m\n\u001b[1;32m    143\u001b[0m             \u001b[0mself\u001b[0m\u001b[0;34m.\u001b[0m\u001b[0muser_vecs\u001b[0m\u001b[0;34m[\u001b[0m\u001b[0mu\u001b[0m\u001b[0;34m,\u001b[0m \u001b[0;34m:\u001b[0m\u001b[0;34m]\u001b[0m \u001b[0;34m+=\u001b[0m \u001b[0mself\u001b[0m\u001b[0;34m.\u001b[0m\u001b[0mlearning_rate\u001b[0m \u001b[0;34m*\u001b[0m\u001b[0;31m \u001b[0m\u001b[0;31m\\\u001b[0m\u001b[0;34m\u001b[0m\u001b[0;34m\u001b[0m\u001b[0m\n\u001b[0;32m--> 144\u001b[0;31m                                     (e * self.item_vecs[i, :] - \\\n\u001b[0m\u001b[1;32m    145\u001b[0m                                      self.user_fact_reg * self.user_vecs[u,:])\n\u001b[1;32m    146\u001b[0m             \u001b[0mself\u001b[0m\u001b[0;34m.\u001b[0m\u001b[0mitem_vecs\u001b[0m\u001b[0;34m[\u001b[0m\u001b[0mi\u001b[0m\u001b[0;34m,\u001b[0m \u001b[0;34m:\u001b[0m\u001b[0;34m]\u001b[0m \u001b[0;34m+=\u001b[0m \u001b[0mself\u001b[0m\u001b[0;34m.\u001b[0m\u001b[0mlearning_rate\u001b[0m \u001b[0;34m*\u001b[0m\u001b[0;31m \u001b[0m\u001b[0;31m\\\u001b[0m\u001b[0;34m\u001b[0m\u001b[0;34m\u001b[0m\u001b[0m\n",
      "\u001b[0;31mKeyboardInterrupt\u001b[0m: "
     ]
    }
   ],
   "source": [
    "%%time\n",
    "iter_array = [1, 2, 5, 10, 25, 50, 100, 200]\n",
    "latent_factors = [5, 10, 20, 40, 80]\n",
    "regularizations = [0.001, 0.01, 0.1, 1.]\n",
    "regularizations.sort()\n",
    "\n",
    "best_params = {}\n",
    "best_params['n_factors'] = latent_factors[0]\n",
    "best_params['reg'] = regularizations[0]\n",
    "best_params['n_iter'] = 0\n",
    "best_params['train_rmse'] = np.inf\n",
    "best_params['val_rmse'] = np.inf\n",
    "best_params['model'] = None\n",
    "\n",
    "for fact in latent_factors:\n",
    "    print(f'Factors: {fact}')\n",
    "    for reg in regularizations:\n",
    "        print(f'Regularization: {reg}')\n",
    "        MF_sgdOpt2 = MF(train, n_factors=fact, learning='sgd',\\\n",
    "                            user_fact_reg=reg, item_fact_reg=reg, \\\n",
    "                            user_bias_reg=reg, item_bias_reg=reg)\n",
    "        MF_sgdOpt2.calculate_learning_curve(iter_array, validation, learning_rate=0.001)\n",
    "        min_idx = np.argmin(MF_sgdOpt2.val_rmse)\n",
    "        if MF_sgdOpt2.val_rmse[min_idx] < best_params['val_rmse']:\n",
    "            best_params['n_factors'] = fact\n",
    "            best_params['reg'] = reg\n",
    "            best_params['n_iter'] = iter_array[min_idx]\n",
    "            best_params['train_rmse'] = MF_sgdOpt2.train_rmse[min_idx]\n",
    "            best_params['val_rmse'] = MF_sgdOpt2.val_rmse[min_idx]\n",
    "            best_params['model'] = MF_sgdOpt2\n",
    "            print('New optimal hyperparameters')\n",
    "            print(pd.Series(best_params))"
   ]
  },
  {
   "cell_type": "markdown",
   "metadata": {},
   "source": [
    "Thus with a learning rate of 0.001, the optimal hyperparameters are:\n",
    "n_factors                                         40\n",
    "reg                                             0.01\n",
    "n_iter                                           200\n",
    "\n",
    "with a val rmse at 0.959299"
   ]
  },
  {
   "cell_type": "code",
   "execution_count": 49,
   "metadata": {},
   "outputs": [
    {
     "data": {
      "image/png": "[encoded data removed]",
      "text/plain": [
       "<Figure size 432x288 with 1 Axes>"
      ]
     },
     "metadata": {},
     "output_type": "display_data"
    }
   ],
   "source": [
    "plot_learning_curve(iter_array, best_params['model'])"
   ]
  },
  {
   "cell_type": "code",
   "execution_count": 51,
   "metadata": {},
   "outputs": [
    {
     "name": "stdout",
     "output_type": "stream",
     "text": [
      "Best regularization: 0.01\n",
      "Best latent factors: 40\n",
      "Best iterations: 200\n"
     ]
    }
   ],
   "source": [
    "\n",
    "print(f'Best regularization: {best_params[\"reg\"]}')\n",
    "print(f'Best latent factors: {best_params[\"n_factors\"]}')\n",
    "print(f'Best iterations: {best_params[\"n_iter\"]}')"
   ]
  },
  {
   "cell_type": "markdown",
   "metadata": {},
   "source": [
    "It seems we could increase the iteration count to get an even better performance on the validation set"
   ]
  }
 ],
 "metadata": {
  "kernelspec": {
   "display_name": "Python [conda env:root] *",
   "language": "python",
   "name": "conda-root-py"
  },
  "language_info": {
   "codemirror_mode": {
    "name": "ipython",
    "version": 3
   },
   "file_extension": ".py",
   "mimetype": "text/x-python",
   "name": "python",
   "nbconvert_exporter": "python",
   "pygments_lexer": "ipython3",
   "version": "3.7.10"
  }
 },
 "nbformat": 4,
 "nbformat_minor": 4
}
